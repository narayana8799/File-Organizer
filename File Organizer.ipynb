{
 "cells": [
  {
   "cell_type": "code",
   "execution_count": 8,
   "metadata": {},
   "outputs": [
    {
     "name": "stdout",
     "output_type": "stream",
     "text": [
      "[+] Enter a Path : E:\\Wallpapers\n",
      "\n",
      "==>>> Current Path :  E:/Wallpapers\n",
      "\n",
      "\n",
      "[+] 1 - Begin Organizing || 0 - Abort Organizing : 1\n",
      "\n",
      "\n",
      "Moving  111955.jpg to  ./JPG\n",
      "Moving  164946.jpg to  ./JPG\n",
      "Moving  607866.png to  ./PNG\n",
      "Moving  739393.jpg to  ./JPG\n",
      "Moving  astronaut_portal_neon_141352_3840x2160.jpg to  ./JPG\n",
      "Moving  Cool-Luffy-One-Piece-Wallpaper-Anime-HD-For-Desktop.jpg to  ./JPG\n",
      "Moving  tree_fog_grass_119819_3840x2160.jpg to  ./JPG\n",
      "Moving  wallpaperflare.com_wallpaper (1).jpg to  ./JPG\n",
      "Moving  wallpaperflare.com_wallpaper (2).jpg to  ./JPG\n",
      "Moving  wallpaperflare.com_wallpaper.jpg to  ./JPG\n",
      "Moving  wp2239496-akashi-seijuro-kuroko-no-basket-wallpapers.png to  ./PNG\n",
      "\n",
      "\n",
      "File Organizing Completed.....\n",
      "\n",
      "\n",
      "\n",
      "[+] Know Directory Stats [1 - YES || 0 - NO] : 1\n",
      "\n",
      "\n",
      "Written By : M L Nrayana\n",
      "Modules Used : os, shutil, matplotlib\n",
      "Date : 28-04-2020\n"
     ]
    },
    {
     "data": {
      "image/png": "[encoded data removed]",
      "text/plain": [
       "<Figure size 432x288 with 1 Axes>"
      ]
     },
     "metadata": {
      "needs_background": "light"
     },
     "output_type": "display_data"
    }
   ],
   "source": [
    "import matplotlib.pyplot as plt\n",
    "import os\n",
    "import shutil\n",
    "\n",
    "def file_organizer(pth='./'):\n",
    "    pth = pth.replace('\\\\', '/')\n",
    "    os.chdir(pth)\n",
    "    print('\\n==>>> Current Path : ', pth)\n",
    "    print('\\n')\n",
    "    files = list(filter(lambda x: os.path.isfile(x), os.listdir()))\n",
    "    dir_ = [x.split('.')[-1].upper() for x in files]\n",
    "    dirs = set(dir_)\n",
    "    \n",
    "      \n",
    "    choice_2 = int(input('[+] 1 - Begin Organizing || 0 - Abort Organizing : '))\n",
    "    print('\\n')\n",
    "    \n",
    "    if choice_2:\n",
    "        \n",
    "        for directory in dirs:\n",
    "            os.mkdir(directory)\n",
    "        \n",
    "        for file in files:\n",
    "            p1 = './'\n",
    "            p2 = file.split('.')[-1].upper()\n",
    "            p = os.path.join(p1, p2)\n",
    "            print('Moving ', file, 'to ', p)\n",
    "            shutil.move(file, p)\n",
    "        print('\\n\\nFile Organizing Completed.....\\n\\n\\n')\n",
    "    \n",
    "    else:\n",
    "        \n",
    "        print('File Organizing Aborted...\\n')\n",
    "    \n",
    "    choice_1 = int(input('[+] Know Directory Stats [1 - YES || 0 - NO] : '))\n",
    "    print('\\n')\n",
    "    \n",
    "    if choice_1:\n",
    "        file_info = dict()\n",
    "        \n",
    "        for i in dirs:\n",
    "            file_info[i] = dir_.count(i)\n",
    "        plt.bar(range(len(file_info.keys())) , file_info.values(), color='r', alpha=0.3, label='Files')\n",
    "        plt.xticks(ticks=range(len(file_info.keys())), labels=file_info.keys(), rotation=90)\n",
    "        plt.xlabel('All Files')\n",
    "        plt.ylabel('Files Count')\n",
    "        plt.title('Directorie\\'s File Status')\n",
    "        plt.legend()\n",
    "      \n",
    "        \n",
    "    print('Written By : M L Nrayana\\nModules Used : os, shutil, matplotlib\\nDate : 28-04-2020')\n",
    "\n",
    "pth = input('[+] Enter a Path : ')\n",
    "file_organizer(pth)"
   ]
  }
 ],
 "metadata": {
  "kernelspec": {
   "display_name": "Python 3",
   "language": "python",
   "name": "python3"
  },
  "language_info": {
   "codemirror_mode": {
    "name": "ipython",
    "version": 3
   },
   "file_extension": ".py",
   "mimetype": "text/x-python",
   "name": "python",
   "nbconvert_exporter": "python",
   "pygments_lexer": "ipython3",
   "version": "3.7.6"
  }
 },
 "nbformat": 4,
 "nbformat_minor": 4
}
